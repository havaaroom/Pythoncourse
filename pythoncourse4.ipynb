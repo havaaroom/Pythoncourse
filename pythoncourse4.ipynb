{
 "cells": [
  {
   "cell_type": "markdown",
   "metadata": {},
   "source": [
    "# Python Programming : An Introduction 04\n"
   ]
  },
  {
   "cell_type": "markdown",
   "metadata": {},
   "source": [
    "# Python Lambda"
   ]
  },
  {
   "cell_type": "markdown",
   "metadata": {},
   "source": [
    "    lambda arguments : expression "
   ]
  },
  {
   "cell_type": "code",
   "execution_count": null,
   "metadata": {},
   "outputs": [],
   "source": [
    "x = lambda a : a + 10\n",
    "print(x(5))"
   ]
  },
  {
   "cell_type": "code",
   "execution_count": null,
   "metadata": {},
   "outputs": [],
   "source": [
    "x = lambda a, b, c : a + b + c\n",
    "print(x(5, 6, 2))"
   ]
  },
  {
   "cell_type": "code",
   "execution_count": null,
   "metadata": {},
   "outputs": [],
   "source": [
    "def myfunc(n):\n",
    "   return lambda a : a * n\n",
    "\n",
    " mydoubler = myfunc(2)\n",
    "\n",
    "print(mydoubler(11)) "
   ]
  },
  {
   "cell_type": "code",
   "execution_count": null,
   "metadata": {},
   "outputs": [],
   "source": [
    "def myfunc(n):\n",
    "   return lambda a : a * n\n",
    "\n",
    " mytripler = myfunc(3)\n",
    "\n",
    "print(mytripler(11)) "
   ]
  },
  {
   "cell_type": "markdown",
   "metadata": {},
   "source": [
    "# Python Classes and Objects"
   ]
  },
  {
   "cell_type": "markdown",
   "metadata": {},
   "source": [
    "    The __init__() Function"
   ]
  },
  {
   "cell_type": "code",
   "execution_count": 2,
   "metadata": {},
   "outputs": [
    {
     "name": "stdout",
     "output_type": "stream",
     "text": [
      "37.48\n"
     ]
    }
   ],
   "source": [
    "class AWS:\n",
    "    def __init__(self,name,lat,lon,elevation,start_date):\n",
    "        self.name =name\n",
    "        self.lat = lat\n",
    "        self.lon = lon\n",
    "        self.elevation = elevation\n",
    "        self.start_date = start_date\n",
    "station = AWS('Bojnord',37.48,57.19,1068,1970)\n",
    "print(station.lat)"
   ]
  },
  {
   "cell_type": "markdown",
   "metadata": {},
   "source": [
    "    The __str__() Function"
   ]
  },
  {
   "cell_type": "code",
   "execution_count": 6,
   "metadata": {
    "collapsed": true
   },
   "outputs": [
    {
     "name": "stdout",
     "output_type": "stream",
     "text": [
      "Station Details:\n",
      "\tName: Bojnord\n",
      "\tLatitude: 37.48\n",
      "\tLongitude: 57.19\n",
      "\tElevation: 1068\n",
      "\tStart Year: 1970\n"
     ]
    }
   ],
   "source": [
    "class AWS:\n",
    "    def __init__(self,name,lat,lon,elevation,start_date):\n",
    "        self.name =name\n",
    "        self.lat = lat\n",
    "        self.lon = lon\n",
    "        self.elevation = elevation\n",
    "        self.start_date = start_date\n",
    "    def __str__(self):\n",
    "        return f\"Station Details:\\n\\tName: {self.name}\\n\\tLatitude: {self.lat}\\n\\tLongitude: {self.lon}\\n\\tElevation: {self.elevation}\\n\\tStart Year: {self.start_date}\"\n",
    "station = AWS('Bojnord',37.48,57.19,1068,1970)\n",
    "print(station)"
   ]
  },
  {
   "cell_type": "markdown",
   "metadata": {},
   "source": [
    "# Python Inheritance"
   ]
  },
  {
   "cell_type": "markdown",
   "metadata": {},
   "source": [
    "    Parent class is the class being inherited from, also called base class.\n",
    "\n",
    "    Child class is the class that inherits from another class, also called derived class.\n"
   ]
  },
  {
   "cell_type": "markdown",
   "metadata": {},
   "source": [
    "    Create a Child Class"
   ]
  },
  {
   "cell_type": "code",
   "execution_count": 7,
   "metadata": {},
   "outputs": [],
   "source": [
    "class my_station(AWS):\n",
    "    ..."
   ]
  },
  {
   "cell_type": "code",
   "execution_count": 8,
   "metadata": {
    "collapsed": true
   },
   "outputs": [
    {
     "name": "stdout",
     "output_type": "stream",
     "text": [
      "Station Details:\n",
      "\tName: Bojnord\n",
      "\tLatitude: 37.48\n",
      "\tLongitude: 57.19\n",
      "\tElevation: 1068\n",
      "\tStart Year: 1970\n"
     ]
    }
   ],
   "source": [
    "station = my_station('Bojnord',37.48,57.19,1068,1970)\n",
    "print(station)"
   ]
  },
  {
   "cell_type": "markdown",
   "metadata": {},
   "source": [
    "    Add the __init__() Function"
   ]
  },
  {
   "cell_type": "code",
   "execution_count": null,
   "metadata": {},
   "outputs": [],
   "source": [
    "class my_station(AWS):\n",
    "    def __init__(self,name,lat,lon,elevation,start_date):\n",
    "        AWS.__init__(self,name,lat,lon,elevation,start_date)\n"
   ]
  },
  {
   "cell_type": "markdown",
   "metadata": {},
   "source": [
    "Use the super() Function"
   ]
  },
  {
   "cell_type": "code",
   "execution_count": null,
   "metadata": {},
   "outputs": [],
   "source": [
    "class my_station(AWS):\n",
    "    def __init__(self,name,lat,lon,elevation,start_date):\n",
    "        super().__init__(name,lat,lon,elevation,start_date)\n"
   ]
  },
  {
   "cell_type": "code",
   "execution_count": 21,
   "metadata": {
    "collapsed": true
   },
   "outputs": [
    {
     "name": "stdout",
     "output_type": "stream",
     "text": [
      "Station Details:\n",
      "\tName: Bojnord\n",
      "\tLatitude: 37.48\n",
      "\tLongitude: 57.19\n",
      "\tElevation: 1068\n",
      "\tStart Year: 1970\n"
     ]
    }
   ],
   "source": [
    "class my_station(AWS):\n",
    "    def __init__(self,name,lat,lon,elevation,start_date,stationtype):\n",
    "        super().__init__(name,lat,lon,elevation,start_date)\n",
    "        self.stationtype = stationtype\n",
    "    def welcome(self):\n",
    "        print(\"Welcome to the \",self.name,\" station\")\n",
    "\n",
    "station = my_station('Bojnord',37.48,57.19,1068,1970,\"Climatology\")\n",
    "print(station)"
   ]
  },
  {
   "cell_type": "markdown",
   "metadata": {},
   "source": [
    "# Python Iterators"
   ]
  },
  {
   "cell_type": "markdown",
   "metadata": {},
   "source": [
    "    An iterator is an object that contains a countable number of values.\n",
    "\n",
    "    An iterator is an object that can be iterated upon, meaning that you can traverse through all the values.\n",
    "\n",
    "    Technically, in Python, an iterator is an object which implements the iterator protocol, which consist of the methods __iter__() and __next__().\n"
   ]
  },
  {
   "cell_type": "code",
   "execution_count": null,
   "metadata": {},
   "outputs": [],
   "source": [
    "mytuple = (\"apple\", \"banana\", \"cherry\")\n",
    "myit = iter(mytuple)\n",
    "\n",
    " print(next(myit))\n",
    "print(next(myit))\n",
    "print(next(myit))"
   ]
  },
  {
   "cell_type": "code",
   "execution_count": null,
   "metadata": {},
   "outputs": [],
   "source": [
    "mystr = \"banana\"\n",
    "myit = iter(mystr)\n",
    "\n",
    " print(next(myit))\n",
    "print(next(myit))\n",
    "print(next(myit))\n",
    " print(next(myit))\n",
    "print(next(myit))\n",
    "print(next(myit))"
   ]
  },
  {
   "cell_type": "markdown",
   "metadata": {},
   "source": [
    "    Create an Iterator"
   ]
  },
  {
   "cell_type": "code",
   "execution_count": 2,
   "metadata": {
    "collapsed": true
   },
   "outputs": [
    {
     "name": "stdout",
     "output_type": "stream",
     "text": [
      "0\n",
      "1\n",
      "2\n",
      "3\n",
      "4\n",
      "5\n",
      "6\n",
      "7\n",
      "8\n",
      "9\n",
      "10\n",
      "11\n",
      "12\n",
      "13\n",
      "14\n",
      "15\n",
      "16\n",
      "17\n",
      "18\n",
      "19\n",
      "20\n",
      "<__main__.Range object at 0x0000000004F0DBE0>\n",
      "[0, 1, 2, 3, 4, 5, 6, 7, 8, 9, 10, 11, 12, 13, 14, 15, 16, 17, 18, 19, 20]\n"
     ]
    }
   ],
   "source": [
    "# here we try to create something like range(n) with iterators\n",
    "class Range:\n",
    "    def __init__(self,n):\n",
    "        self.n = n\n",
    "    def __iter__(self):\n",
    "        self.a = 0\n",
    "        return self\n",
    "    def __next__(self):\n",
    "        if self.a <= self.n:\n",
    "            x = self.a\n",
    "            self.a += 1\n",
    "            return x\n",
    "        else:\n",
    "            raise StopIteration\n",
    "myrange = Range(20)\n",
    "myiter = iter(myrange)\n",
    "for x in myrange:\n",
    "    print(x)\n",
    "print(myrange)\n",
    "print(list(myrange))"
   ]
  },
  {
   "cell_type": "markdown",
   "metadata": {},
   "source": [
    "# Python Modules"
   ]
  },
  {
   "cell_type": "markdown",
   "metadata": {},
   "source": [
    "## User defined modules"
   ]
  },
  {
   "cell_type": "code",
   "execution_count": null,
   "metadata": {},
   "outputs": [],
   "source": [
    "To create a module just save the code you want in a file with the file extension .py\n",
    "\n",
    "Then import it inside your script."
   ]
  },
  {
   "cell_type": "code",
   "execution_count": null,
   "metadata": {},
   "outputs": [],
   "source": [
    "# save this function as py file: testmodule.py\n",
    "def greeting(name):\n",
    "  print(\"Hello, \" + name)"
   ]
  },
  {
   "cell_type": "code",
   "execution_count": null,
   "metadata": {},
   "outputs": [],
   "source": [
    "import testmodule\n",
    "\n",
    "testmodule.greeting(\"Jonathan\") "
   ]
  },
  {
   "cell_type": "code",
   "execution_count": null,
   "metadata": {},
   "outputs": [],
   "source": [
    "import testmodule as test\n",
    "\n",
    "test.greeting(\"Jonathan\") "
   ]
  },
  {
   "cell_type": "code",
   "execution_count": null,
   "metadata": {},
   "outputs": [],
   "source": [
    "from testmodule import *\n",
    "\n",
    "greeting(\"Jonathan\") "
   ]
  },
  {
   "cell_type": "markdown",
   "metadata": {},
   "source": [
    "## Built-in Modules"
   ]
  },
  {
   "cell_type": "markdown",
   "metadata": {},
   "source": [
    "Requests\n",
    "Pandas\n",
    "Numpy\n",
    "Matplotlib\n",
    "Datetime\n",
    "Time\n",
    "Pytz\n",
    "Cartopy\n",
    "NETCDF4\n",
    "Django\n",
    "NLTK (natural language)\n",
    "CSV\n",
    "OpenCV\n",
    "scikit-learn\n",
    "seaborn\n",
    "..."
   ]
  },
  {
   "cell_type": "code",
   "execution_count": null,
   "metadata": {},
   "outputs": [],
   "source": []
  },
  {
   "cell_type": "code",
   "execution_count": null,
   "metadata": {},
   "outputs": [],
   "source": []
  },
  {
   "cell_type": "code",
   "execution_count": null,
   "metadata": {},
   "outputs": [],
   "source": []
  },
  {
   "cell_type": "code",
   "execution_count": null,
   "metadata": {},
   "outputs": [],
   "source": []
  }
 ],
 "metadata": {
  "kernelspec": {
   "display_name": "Python 3 (ipykernel)",
   "language": "python",
   "name": "python3"
  },
  "language_info": {
   "codemirror_mode": {
    "name": "ipython",
    "version": 3
   },
   "file_extension": ".py",
   "mimetype": "text/x-python",
   "name": "python",
   "nbconvert_exporter": "python",
   "pygments_lexer": "ipython3",
   "version": "3.9.15"
  }
 },
 "nbformat": 4,
 "nbformat_minor": 2
}
