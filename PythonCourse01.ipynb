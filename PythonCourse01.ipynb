{
 "cells": [
  {
   "cell_type": "markdown",
   "id": "df542037",
   "metadata": {},
   "source": [
    "# Python Programming : An Introduction 01\n",
    "\n"
   ]
  },
  {
   "cell_type": "markdown",
   "id": "fa1ddb4e",
   "metadata": {},
   "source": [
    "## Python"
   ]
  },
  {
   "cell_type": "markdown",
   "id": "f8415e6e",
   "metadata": {},
   "source": [
    "Python is an open source, general purpose programming language. Guido van Rossum developed Python based on the defunct ABC programming language and named it after the Monty Python comedy troupe.\n",
    "\n",
    "Python is a High-Level Language\n",
    "Python Supports Object-Oriented Programming (OOP)\n",
    "Python is a General-Purpose Language\n",
    "Python is an Interpreted Language\n",
    "Python is Dynamically-Typed\n",
    "Python Programs are Platform-Independent\n",
    "\n",
    "Python History:\n",
    "\n",
    "\n",
    "Python 1.4, documentation released on 25 October 1996.\n",
    ".\n",
    ".\n",
    ".\n",
    ".\n",
    "\n",
    "Python 3.11.0, documentation released on 24 October 2022.\n"
   ]
  },
  {
   "cell_type": "markdown",
   "id": "ccd97e01",
   "metadata": {},
   "source": [
    "    METEO-related organizations use Python:"
   ]
  },
  {
   "cell_type": "markdown",
   "id": "0b3b072b",
   "metadata": {},
   "source": [
    "EUMDAC - Python Client for EUMETSAT Data Access Services\n",
    "\n",
    "The ECMWF Web API\n",
    "\n",
    "NOAA Python SDK\n",
    "\n",
    "Météo-France Python API\n",
    "\n",
    "Python connector to the Meteomatics Weather API\n",
    "\n"
   ]
  },
  {
   "cell_type": "markdown",
   "id": "d310355d",
   "metadata": {},
   "source": [
    "Python for MeteoJobs:\n",
    "    \n",
    "    1- using databases\n",
    "    \n",
    "    2- using models optput\n",
    "    \n",
    "    3- huge mathematical computations\n",
    "    \n",
    "    4- Artificial Intelligence\n",
    "    \n",
    "    5- GUI and Graphical tools\n",
    "    "
   ]
  },
  {
   "cell_type": "markdown",
   "id": "405125a0",
   "metadata": {},
   "source": [
    "## Linux common commands"
   ]
  },
  {
   "cell_type": "markdown",
   "id": "b8c6759d",
   "metadata": {},
   "source": [
    "ls         - The most frequently used command in Linux to list directories\n",
    "\n",
    "pwd        - Print working directory command in Linux\n",
    "\n",
    "cd         - Linux command to navigate through directories\n",
    "\n",
    "mkdir      - Command used to create directories in Linux\n",
    "\n",
    "mv         - Move or rename files in Linux\n",
    "\n",
    "cp         - Similar usage as mv but for copying files in Linux\n",
    "\n",
    "rm         - Delete files or directories\n",
    "\n",
    "touch      - Create blank/empty files\n",
    "\n",
    "ln         - Create symbolic links (shortcuts) to other files\n",
    "\n",
    "cat        - Display file contents on the terminal\n",
    "\n",
    "clear      - Clear the terminal display\n",
    "\n",
    "echo       - Print any text that follows the command\n",
    "\n",
    "apt-get    - download and install apps \n",
    "\n",
    "man        - Access manual pages for all Linux commands\n",
    "\n",
    "uname      - Linux command to get basic information about the OS\n",
    "\n",
    "whoami     - Get the active username\n",
    "\n",
    "tar        - Command to extract and compress files in Linux\n",
    "\n",
    "grep       - Search for a string within an output\n",
    "\n",
    "diff       - Find the difference between two files\n",
    "\n",
    "cmp        - Allows you to check if two files are identical\n",
    "\n",
    "comm       - Combines the functionality of diff and cmp\n",
    "\n",
    "sort       - Linux command to sort the content of a file while outputting\n",
    "\n",
    "export     - Export environment variables in Linux\n",
    "\n",
    "service    - Linux command to start and stop services\n",
    "\n",
    "kill       - Kill active processes by process ID or name\n",
    "\n",
    "df         - Display disk filesystem information\n",
    "\n",
    "mount      - Mount file systems in Linux\n",
    "\n",
    "chmod      - Command to change file permissions\n",
    "\n",
    "traceroute - Trace all the network hops to reach the destination\n",
    "\n",
    "wget       - Direct download files from the internet\n",
    "\n",
    "apt, rpm   - Package managers depending on the distro\n",
    "\n",
    "sudo       - Command to escalate privileges in Linux\n",
    "\n",
    "cal        - View a command-line calendar\n",
    "\n",
    "alias      - Create custom shortcuts for your regularly used commands\n",
    "\n",
    "useradd    - Add new user or change existing users data\n",
    "\n",
    "passwd     - Create or update passwords for existing users\n",
    "\n"
   ]
  },
  {
   "cell_type": "markdown",
   "id": "b0f49365",
   "metadata": {},
   "source": [
    "## Python Installation"
   ]
  },
  {
   "cell_type": "markdown",
   "id": "93519c05",
   "metadata": {},
   "source": [
    "    1- www.Python.org\n",
    "    \n",
    "    2- www.anaconda.com"
   ]
  },
  {
   "cell_type": "markdown",
   "id": "1722873a",
   "metadata": {},
   "source": [
    "## Python Code Editors"
   ]
  },
  {
   "cell_type": "code",
   "execution_count": null,
   "id": "bf1dfe9f",
   "metadata": {},
   "outputs": [],
   "source": [
    "#1) PyCharm\n",
    "\n",
    "#2) Spyder\n",
    "\n",
    "#3) IDLE\n",
    "\n",
    "#5) Visual Studio Code\n",
    "\n",
    "#7) Jupyter\n"
   ]
  }
 ],
 "metadata": {
  "kernelspec": {
   "display_name": "Python 3 (ipykernel)",
   "language": "python",
   "name": "python3"
  },
  "language_info": {
   "codemirror_mode": {
    "name": "ipython",
    "version": 3
   },
   "file_extension": ".py",
   "mimetype": "text/x-python",
   "name": "python",
   "nbconvert_exporter": "python",
   "pygments_lexer": "ipython3",
   "version": "3.9.15"
  }
 },
 "nbformat": 4,
 "nbformat_minor": 5
}
